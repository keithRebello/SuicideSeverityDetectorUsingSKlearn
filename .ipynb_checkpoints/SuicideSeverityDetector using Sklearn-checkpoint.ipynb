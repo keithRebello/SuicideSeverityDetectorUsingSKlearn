{
 "cells": [
  {
   "cell_type": "markdown",
   "metadata": {},
   "source": [
    "# Suicide Severity Detector Using SKLearn\n",
    "\n",
    "This model uses the Reddit C-SSRS Suicide Dataset to identify whether a comment made is either Ideation, Supportive, Indicator, Behavior and Attempt.\n",
    "\n",
    "##### Citation for the Dataset:\n",
    "Gaur, Manas, Alambo, Amanuel, Sain, Joy Prakash, Kurscuncu, Ugur, Thirunarayan, Krishnaprasad, Kavuluru, Ramakanth, … Pathak, Jyotishman. (2019). Reddit C-SSRS Suicide Dataset. Zenodo. http://doi.org/10.5281/zenodo.2667859"
   ]
  },
  {
   "cell_type": "code",
   "execution_count": 1,
   "metadata": {},
   "outputs": [],
   "source": [
    "import pandas as pd"
   ]
  },
  {
   "cell_type": "code",
   "execution_count": 2,
   "metadata": {},
   "outputs": [],
   "source": [
    "df = pd.read_csv('500_Reddit_users_posts_labels.csv') #loading the dataset\n",
    "df.describe() #basic summary of the data\n",
    "labels = df.Label.unique() #storing the unique label types"
   ]
  },
  {
   "cell_type": "code",
   "execution_count": 5,
   "metadata": {},
   "outputs": [
    {
     "data": {
      "text/plain": [
       "<matplotlib.axes._subplots.AxesSubplot at 0x7fc94116a208>"
      ]
     },
     "execution_count": 5,
     "metadata": {},
     "output_type": "execute_result"
    },
    {
     "data": {
      "image/png": "[encoded data removed]",
      "text/plain": [
       "<Figure size 432x288 with 1 Axes>"
      ]
     },
     "metadata": {
      "needs_background": "light"
     },
     "output_type": "display_data"
    }
   ],
   "source": [
    "df.Label.value_counts().plot(kind='bar') #exploring the distribution of labels in the dataset"
   ]
  },
  {
   "cell_type": "markdown",
   "metadata": {},
   "source": [
    "### Dealing with the Class imbalance\n",
    "\n",
    "Since the dataset is clearly imbalanced, we'll need to balance the data to achieve a better result. \n",
    "One method to do this is to implment models using a balanced class weight. The weights of each class have been calculated and displayed below."
   ]
  },
  {
   "cell_type": "code",
   "execution_count": 6,
   "metadata": {},
   "outputs": [
    {
     "name": "stdout",
     "output_type": "stream",
     "text": [
      "{'Ideation': 0.5847953216374269, 'Behavior': 1.2987012987012987, 'Indicator': 1.0101010101010102, 'Supportive': 0.9259259259259259, 'Attempt': 2.2222222222222223}\n"
     ]
    }
   ],
   "source": [
    "from sklearn.utils.class_weight import compute_class_weight\n",
    "class_weights = compute_class_weight('balanced', df.Label.unique(),df.Label)\n",
    "label_weights = dict(zip(df.Label.unique(),class_weights)) \n",
    "print(label_weights)"
   ]
  },
  {
   "cell_type": "markdown",
   "metadata": {},
   "source": [
    "##### Another method is to use resampling to balance the number of samples for each class by either upsampling the minority classes or downsampling the majority classes. First we take a look at the exactdistribution of classes and then we perform both upsampling and downsampling to compare results."
   ]
  },
  {
   "cell_type": "code",
   "execution_count": 7,
   "metadata": {},
   "outputs": [
    {
     "data": {
      "text/plain": [
       "Ideation      171\n",
       "Supportive    108\n",
       "Indicator      99\n",
       "Behavior       77\n",
       "Attempt        45\n",
       "Name: Label, dtype: int64"
      ]
     },
     "execution_count": 7,
     "metadata": {},
     "output_type": "execute_result"
    }
   ],
   "source": [
    "from sklearn.utils import resample\n",
    "df.Label.value_counts()"
   ]
  },
  {
   "cell_type": "markdown",
   "metadata": {},
   "source": [
    "#### Upsampling"
   ]
  },
  {
   "cell_type": "code",
   "execution_count": 8,
   "metadata": {},
   "outputs": [
    {
     "data": {
      "text/plain": [
       "Ideation      171\n",
       "Attempt       171\n",
       "Behavior      171\n",
       "Supportive    171\n",
       "Indicator     171\n",
       "Name: Label, dtype: int64"
      ]
     },
     "execution_count": 8,
     "metadata": {},
     "output_type": "execute_result"
    }
   ],
   "source": [
    "df_ideation = df[df.Label == 'Ideation']\n",
    "df_supportive = df[df.Label == 'Supportive']\n",
    "df_indicator = df[df.Label == 'Indicator']\n",
    "df_behavior = df[df.Label == 'Behavior']\n",
    "df_attempt = df[df.Label == \"Attempt\"]\n",
    "\n",
    "df_supportive_upsampled = resample(df_supportive, \n",
    "                                 replace=True,     # sample with replacement\n",
    "                                 n_samples=171,    # to match majority class\n",
    "                                 random_state=123)\n",
    "\n",
    "df_indicator_upsampled = resample(df_indicator, \n",
    "                                 replace=True,     # sample with replacement\n",
    "                                 n_samples=171,    # to match majority class\n",
    "                                 random_state=123) \n",
    "\n",
    "df_behavior_upsampled = resample(df_behavior, \n",
    "                                 replace=True,     # sample with replacement\n",
    "                                 n_samples=171,    # to match majority class\n",
    "                                 random_state=123) \n",
    "\n",
    "df_attempt_upsampled = resample(df_attempt, \n",
    "                                 replace=True,     # sample with replacement\n",
    "                                 n_samples=171,    # to match majority class\n",
    "                                 random_state=123)\n",
    "\n",
    "df_upsampled = pd.concat([df_ideation, df_attempt_upsampled,df_behavior_upsampled,df_indicator_upsampled,df_supportive_upsampled])\n",
    "df_upsampled.Label.value_counts()"
   ]
  },
  {
   "cell_type": "markdown",
   "metadata": {},
   "source": [
    "#### Additionally we're also peforming preprocessing to clean the data before we feed it to our model."
   ]
  },
  {
   "cell_type": "code",
   "execution_count": 9,
   "metadata": {},
   "outputs": [],
   "source": [
    "import re\n",
    "import string\n",
    "from nltk.corpus import stopwords\n",
    "stop_words = set(stopwords.words(\"english\"))\n",
    "from nltk.tokenize import word_tokenize\n",
    "from nltk.stem import PorterStemmer\n",
    "from nltk.stem import WordNetLemmatizer\n",
    "stemmer= PorterStemmer()\n",
    "lemmatizer=WordNetLemmatizer()\n",
    "posts = []\n",
    "for i in df_upsampled.Post:\n",
    "    lower = str(i).lower() # Convert text to lower case\n",
    "    numberless = re.sub(r\"\\d+\", \"\", lower) # remove all numbers\n",
    "    punctuations = numberless.translate(str.maketrans('','',string.punctuation)) #remove punctuations etc\n",
    "    whitespaces = punctuations.strip() #remove whitespaces\n",
    "    tokens = word_tokenize(whitespaces) #tokenize the post\n",
    "    result = [i for i in tokens if not i in stop_words] # remove stopwords\n",
    "    stem_word = [stemmer.stem(word) for word in result] # stemming the post\n",
    "    posts.append(\" \".join(stem_word))\n",
    "df_upsampled.Post = posts"
   ]
  },
  {
   "cell_type": "markdown",
   "metadata": {},
   "source": [
    "##### Now we spit the dataset and run different models to compare the results of each using a convenient method of sklearn metrics called a classification report"
   ]
  },
  {
   "cell_type": "code",
   "execution_count": 10,
   "metadata": {},
   "outputs": [],
   "source": [
    "from sklearn.model_selection import train_test_split\n",
    "X = df_upsampled.Post\n",
    "y = df_upsampled.Label\n",
    "X_train, X_test, y_train, y_test = train_test_split(X, y, test_size=0.3, random_state = 42)"
   ]
  },
  {
   "cell_type": "markdown",
   "metadata": {},
   "source": [
    "##### Model 1# Using a multinomial Naive Bayes Classifier"
   ]
  },
  {
   "cell_type": "code",
   "execution_count": 11,
   "metadata": {},
   "outputs": [
    {
     "name": "stdout",
     "output_type": "stream",
     "text": [
      "accuracy 0.642023346303502\n",
      "              precision    recall  f1-score   support\n",
      "\n",
      "  Supportive       0.46      1.00      0.63        51\n",
      "    Ideation       0.93      0.46      0.62        56\n",
      "    Behavior       0.47      0.35      0.40        51\n",
      "     Attempt       0.88      0.72      0.79        53\n",
      "   Indicator       0.89      0.70      0.78        46\n",
      "\n",
      "    accuracy                           0.64       257\n",
      "   macro avg       0.73      0.65      0.64       257\n",
      "weighted avg       0.73      0.64      0.64       257\n",
      "\n"
     ]
    }
   ],
   "source": [
    "from sklearn.naive_bayes import MultinomialNB\n",
    "from sklearn.pipeline import Pipeline\n",
    "from sklearn.feature_extraction.text import CountVectorizer, TfidfTransformer\n",
    "from sklearn.metrics import accuracy_score, confusion_matrix\n",
    "\n",
    "nb = Pipeline([('vect', CountVectorizer()),\n",
    "               ('tfidf', TfidfTransformer()),\n",
    "               ('clf', MultinomialNB()),\n",
    "              ])\n",
    "nb.fit(X_train, y_train)\n",
    "\n",
    "\n",
    "from sklearn.metrics import classification_report\n",
    "y_pred = nb.predict(X_test)\n",
    "\n",
    "print('accuracy %s' % accuracy_score(y_pred, y_test))\n",
    "print(classification_report(y_test, y_pred,target_names=labels))"
   ]
  },
  {
   "cell_type": "markdown",
   "metadata": {},
   "source": [
    "##### Model 2# Using a multinomial Random Forest Classifier"
   ]
  },
  {
   "cell_type": "code",
   "execution_count": 12,
   "metadata": {},
   "outputs": [
    {
     "name": "stdout",
     "output_type": "stream",
     "text": [
      "accuracy 0.7782101167315175\n",
      "              precision    recall  f1-score   support\n",
      "\n",
      "  Supportive       1.00      0.88      0.94        51\n",
      "    Ideation       1.00      0.71      0.83        56\n",
      "    Behavior       0.52      0.75      0.61        51\n",
      "     Attempt       1.00      0.75      0.86        53\n",
      "   Indicator       0.63      0.80      0.70        46\n",
      "\n",
      "    accuracy                           0.78       257\n",
      "   macro avg       0.83      0.78      0.79       257\n",
      "weighted avg       0.84      0.78      0.79       257\n",
      "\n"
     ]
    }
   ],
   "source": [
    "from sklearn.ensemble import RandomForestClassifier\n",
    "\n",
    "rf = Pipeline([('vect', CountVectorizer()),\n",
    "               ('tfidf', TfidfTransformer()),\n",
    "               ('clf', RandomForestClassifier(n_estimators=1600,max_depth=20)),\n",
    "              ])\n",
    "\n",
    "rf.fit(X_train, y_train)\n",
    "\n",
    "\n",
    "from sklearn.metrics import classification_report\n",
    "y_pred = rf.predict(X_test)\n",
    "\n",
    "print('accuracy %s' % accuracy_score(y_pred, y_test))\n",
    "print(classification_report(y_test, y_pred,target_names=labels))"
   ]
  },
  {
   "cell_type": "markdown",
   "metadata": {},
   "source": [
    "##### Model 3# Using a multinomial Multi-Layer Perceptron Classifier"
   ]
  },
  {
   "cell_type": "code",
   "execution_count": 13,
   "metadata": {},
   "outputs": [
    {
     "name": "stdout",
     "output_type": "stream",
     "text": [
      "accuracy 0.17898832684824903\n",
      "              precision    recall  f1-score   support\n",
      "\n",
      "  Supportive       0.00      0.00      0.00        51\n",
      "    Ideation       0.00      0.00      0.00        56\n",
      "    Behavior       0.00      0.00      0.00        51\n",
      "     Attempt       0.00      0.00      0.00        53\n",
      "   Indicator       0.18      1.00      0.30        46\n",
      "\n",
      "    accuracy                           0.18       257\n",
      "   macro avg       0.04      0.20      0.06       257\n",
      "weighted avg       0.03      0.18      0.05       257\n",
      "\n"
     ]
    },
    {
     "name": "stderr",
     "output_type": "stream",
     "text": [
      "/home/keithrebello/.local/lib/python3.5/site-packages/sklearn/metrics/_classification.py:1272: UndefinedMetricWarning: Precision and F-score are ill-defined and being set to 0.0 in labels with no predicted samples. Use `zero_division` parameter to control this behavior.\n",
      "  _warn_prf(average, modifier, msg_start, len(result))\n"
     ]
    }
   ],
   "source": [
    "from sklearn.neural_network import MLPClassifier\n",
    "\n",
    "nb = Pipeline([('vect', CountVectorizer()),\n",
    "               ('tfidf', TfidfTransformer()),\n",
    "               ('clf', MLPClassifier(solver='lbfgs', alpha=1e-5,hidden_layer_sizes=(5, 2), random_state=1)),\n",
    "              ])\n",
    "nb.fit(X_train, y_train)\n",
    "\n",
    "\n",
    "from sklearn.metrics import classification_report\n",
    "y_pred = nb.predict(X_test)\n",
    "\n",
    "print('accuracy %s' % accuracy_score(y_pred, y_test))\n",
    "print(classification_report(y_test, y_pred,target_names=labels))"
   ]
  },
  {
   "cell_type": "markdown",
   "metadata": {},
   "source": [
    "### Downsampling\n",
    "we now try our luck with downsampling by checking it with the best performing model in the upsampling section"
   ]
  },
  {
   "cell_type": "code",
   "execution_count": 14,
   "metadata": {},
   "outputs": [
    {
     "data": {
      "text/plain": [
       "Ideation      45\n",
       "Behavior      45\n",
       "Supportive    45\n",
       "Indicator     45\n",
       "Attempt       45\n",
       "Name: Label, dtype: int64"
      ]
     },
     "execution_count": 14,
     "metadata": {},
     "output_type": "execute_result"
    }
   ],
   "source": [
    "df_supportive_dsampled = resample(df_supportive, \n",
    "                                 replace=False,     # sample with replacement\n",
    "                                 n_samples=45,    # to match majority class\n",
    "                                 random_state=123)\n",
    "\n",
    "df_indicator_dsampled = resample(df_indicator, \n",
    "                                 replace=False,     # sample with replacement\n",
    "                                 n_samples=45,    # to match majority class\n",
    "                                 random_state=123) \n",
    "\n",
    "df_behavior_dsampled = resample(df_behavior, \n",
    "                                 replace=False,     # sample with replacement\n",
    "                                 n_samples=45,    # to match majority class\n",
    "                                 random_state=123) \n",
    "\n",
    "df_ideation_dsampled = resample(df_ideation, \n",
    "                                 replace=False,     # sample with replacement\n",
    "                                 n_samples=45,    # to match majority class\n",
    "                                 random_state=123)\n",
    "\n",
    "df_downsampled = pd.concat([df_ideation_dsampled, df_attempt,df_behavior_dsampled,df_indicator_dsampled,df_supportive_dsampled])\n",
    "df_downsampled.Label.value_counts()"
   ]
  },
  {
   "cell_type": "markdown",
   "metadata": {},
   "source": [
    "#### Similar pre-precessing of the dataset as before"
   ]
  },
  {
   "cell_type": "code",
   "execution_count": 15,
   "metadata": {},
   "outputs": [],
   "source": [
    "stemmer= PorterStemmer()\n",
    "lemmatizer=WordNetLemmatizer()\n",
    "posts = []\n",
    "for i in df_downsampled.Post:\n",
    "    lower = str(i).lower()\n",
    "    numberless = re.sub(r\"\\d+\", \"\", lower)\n",
    "    punctuations = numberless.translate(str.maketrans('','',string.punctuation))\n",
    "    whitespaces = punctuations.strip()\n",
    "    tokens = word_tokenize(whitespaces)\n",
    "    result = [i for i in tokens if not i in stop_words]\n",
    "    stem_word = [stemmer.stem(word) for word in result]\n",
    "    '''for word in stem_word:\n",
    "        lemmatized = lemmatizer.lemmatize(word)'''\n",
    "    posts.append(\" \".join(stem_word))\n",
    "df_downsampled.Post = posts"
   ]
  },
  {
   "cell_type": "markdown",
   "metadata": {},
   "source": [
    "#### Testing the model with downsampling"
   ]
  },
  {
   "cell_type": "code",
   "execution_count": 16,
   "metadata": {},
   "outputs": [],
   "source": [
    "X = df_downsampled.Post\n",
    "y = df_downsampled.Label\n",
    "X_train, X_test, y_train, y_test = train_test_split(X, y, test_size=0.3, random_state = 42)"
   ]
  },
  {
   "cell_type": "code",
   "execution_count": 17,
   "metadata": {},
   "outputs": [
    {
     "name": "stdout",
     "output_type": "stream",
     "text": [
      "accuracy 0.22058823529411764\n",
      "              precision    recall  f1-score   support\n",
      "\n",
      "  Supportive       0.28      0.38      0.32        13\n",
      "    Ideation       0.20      0.07      0.10        15\n",
      "    Behavior       0.12      0.17      0.14        12\n",
      "     Attempt       0.00      0.00      0.00        13\n",
      "   Indicator       0.32      0.47      0.38        15\n",
      "\n",
      "    accuracy                           0.22        68\n",
      "   macro avg       0.18      0.22      0.19        68\n",
      "weighted avg       0.19      0.22      0.19        68\n",
      "\n"
     ]
    }
   ],
   "source": [
    "nb = Pipeline([('vect', CountVectorizer()),\n",
    "               ('tfidf', TfidfTransformer()),\n",
    "               ('clf', RandomForestClassifier()),\n",
    "              ])\n",
    "\n",
    "nb.fit(X_train, y_train)\n",
    "\n",
    "\n",
    "from sklearn.metrics import classification_report\n",
    "y_pred = nb.predict(X_test)\n",
    "\n",
    "print('accuracy %s' % accuracy_score(y_pred, y_test))\n",
    "print(classification_report(y_test, y_pred,target_names=labels))"
   ]
  },
  {
   "cell_type": "markdown",
   "metadata": {},
   "source": [
    "##### The models can be further developed by tinkering with the hyperparameters of the model. \n",
    "I now try differentcombinations of parameters using ParameterGrid from sklearn "
   ]
  },
  {
   "cell_type": "code",
   "execution_count": 18,
   "metadata": {},
   "outputs": [],
   "source": [
    "X = df_upsampled.Post\n",
    "y = df_upsampled.Label\n",
    "X_train, X_test, y_train, y_test = train_test_split(X, y, test_size=0.3, random_state = 42)"
   ]
  },
  {
   "cell_type": "code",
   "execution_count": 19,
   "metadata": {},
   "outputs": [],
   "source": [
    "from sklearn.model_selection import ParameterGrid\n",
    "params = {\"n_estimators\":[400,800,1200,1600,2000],\"max_depth\":[2,4,5,6,10,20],\"oob_score\":[True,False]}\n",
    "param_list = list(ParameterGrid(params))\n",
    "\n",
    "acc=[]\n",
    "param_combo =[]\n",
    "for i in param_list:\n",
    "    rf = Pipeline([('vect', CountVectorizer()),\n",
    "               ('tfidf', TfidfTransformer()),\n",
    "               ('clf', RandomForestClassifier(**i)),\n",
    "              ])\n",
    "\n",
    "    rf.fit(X_train, y_train)\n",
    "    y_pred = rf.predict(X_test)\n",
    "    acc.append(accuracy_score(y_pred, y_test))\n",
    "    param_combo.append(i)"
   ]
  },
  {
   "cell_type": "code",
   "execution_count": 20,
   "metadata": {},
   "outputs": [
    {
     "name": "stdout",
     "output_type": "stream",
     "text": [
      "best accuracy 0.7821011673151751\n",
      "best combo is  {'n_estimators': 1200, 'oob_score': True, 'max_depth': 20}\n",
      "              precision    recall  f1-score   support\n",
      "\n",
      "  Supportive       1.00      0.88      0.94        51\n",
      "    Ideation       1.00      0.71      0.83        56\n",
      "    Behavior       0.48      0.71      0.57        51\n",
      "     Attempt       1.00      0.74      0.85        53\n",
      "   Indicator       0.64      0.80      0.71        46\n",
      "\n",
      "    accuracy                           0.77       257\n",
      "   macro avg       0.82      0.77      0.78       257\n",
      "weighted avg       0.83      0.77      0.78       257\n",
      "\n"
     ]
    }
   ],
   "source": [
    "param_result = dict(zip(acc,param_combo))\n",
    "\n",
    "print('best accuracy %s' % max(acc))\n",
    "print('best combo is ',param_result[max(acc)])\n",
    "print(classification_report(y_test, y_pred,target_names=labels))"
   ]
  }
 ],
 "metadata": {
  "kernelspec": {
   "display_name": "Python 3",
   "language": "python",
   "name": "python3"
  },
  "language_info": {
   "codemirror_mode": {
    "name": "ipython",
    "version": 3
   },
   "file_extension": ".py",
   "mimetype": "text/x-python",
   "name": "python",
   "nbconvert_exporter": "python",
   "pygments_lexer": "ipython3",
   "version": "3.5.2"
  }
 },
 "nbformat": 4,
 "nbformat_minor": 4
}
